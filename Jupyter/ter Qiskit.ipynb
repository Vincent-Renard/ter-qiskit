{
 "cells": [
  {
   "cell_type": "markdown",
   "metadata": {},
   "source": [
    "# TER \n",
    "_Vincent_"
   ]
  },
  {
   "cell_type": "markdown",
   "metadata": {},
   "source": [
    "## QisKit\n",
    "C'est un framework de Manipulation de :  \n",
    "* cicuits \n",
    "* [Portes](#portes)\n",
    "* registres quantiques \n",
    "* [qubits](#qubit)\n"
   ]
  },
  {
   "cell_type": "markdown",
   "metadata": {},
   "source": [
    "## Registre quantique\n",
    "Un registre quantique est une collection de $n$ qubits.  \n",
    "Il stocke les $2^n$ superpositions d'états possibles.\n"
   ]
  },
  {
   "cell_type": "markdown",
   "metadata": {},
   "source": [
    "## Qubit <a id='qubit'></a>  \n",
    "\n",
    "### Définition\n",
    "Un qubit est l'unité de base : pour un ordinateur l'unité de base est le bit.  \n",
    "Un qubit peut se trouver dans 3 états :\n",
    "        - 0 \n",
    "        - 1\n",
    "        - 1 ET 0 (Superposition)\n",
    "        \n",
    "### Superposition\n",
    "Un qubit peut se trouver dans 2 états à la fois.  \n",
    "Une superposition est la sommede 2 états sur un Qubit\n",
    "\n",
    "### Intrication (entangled)\n",
    "\n",
    "\n",
    "## Portes quantiques <a id='portes'></a>  \n",
    "Une porte est un modificateur de qubits de la même façon qu'une porte logique modifie une valeur booléene : Elles modifient leur état.\n",
    "\n",
    "#### Portes à 1 qubit\n",
    "##### Porte X\n",
    "C'est l'équivalent de la porte *not* :\n",
    "\n",
    "| qubit| X   |\n",
    "|:--:|:--: |\n",
    "|0|1|\n",
    "|1|0|\n",
    "\n",
    "##### Porte Y\n",
    "\n",
    "#### Portes à plusieurs qubits\n",
    "##### Porte H\n",
    "\n",
    "| qubit| H   |\n",
    "|:--:|:--: |\n",
    "|0|1|\n",
    "|1|0|\n",
    "\n",
    "##### Porte S\n",
    "##### Porte S+\n",
    "\n",
    "##### Porte Z\n",
    "##### Porte T\n",
    "##### Porte T+\n",
    "##### Porte +\n",
    "\n",
    "\n",
    "\n"
   ]
  }
 ],
 "metadata": {
  "kernelspec": {
   "display_name": "Python 3",
   "language": "python",
   "name": "python3"
  },
  "language_info": {
   "codemirror_mode": {
    "name": "ipython",
    "version": 3
   },
   "file_extension": ".py",
   "mimetype": "text/x-python",
   "name": "python",
   "nbconvert_exporter": "python",
   "pygments_lexer": "ipython3",
   "version": "3.7.1"
  }
 },
 "nbformat": 4,
 "nbformat_minor": 2
}
