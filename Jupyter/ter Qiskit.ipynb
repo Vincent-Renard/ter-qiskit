{
 "cells": [
  {
   "cell_type": "markdown",
   "metadata": {},
   "source": [
    "# TER \n",
    "_Vincent_"
   ]
  },
  {
   "cell_type": "markdown",
   "metadata": {},
   "source": [
    "## QisKit\n",
    "C'est un framework de Manipulation de :  \n",
    "* circuits \n",
    "* [Portes](#portes)\n",
    "* registres quantiques \n",
    "* [qubits](#qubit)\n"
   ]
  },
  {
   "cell_type": "markdown",
   "metadata": {},
   "source": [
    "## Registre quantique\n",
    "Un registre quantique est une collection de $n$ qubits.  \n",
    "Il stocke les $2^n$ superpositions d'états possibles.\n"
   ]
  },
  {
   "cell_type": "markdown",
   "metadata": {},
   "source": [
    "## Qubit <a id='qubit'></a>  \n",
    "\n",
    "### Définition\n",
    "Un qubit est l'unité de base : pour un ordinateur l'unité de base est le bit.  \n",
    "Un qubit peut se trouver dans 3 états :\n",
    "        - 0 \n",
    "        - 1\n",
    "        - 1 ET 0 (Superposition)\n",
    "        \n",
    "Lorsqu'un qubit se trouve dans une configuration $x$ il est en réalité {$x $ et $\\bar{x}$}\n",
    "        \n",
    "### Superposition\n",
    "Un qubit peut se trouver dans 2 états à la fois.  \n",
    "Une superposition est la somme de 2 états sur un Qubit\n",
    "\n",
    "### Intrication (entangled)\n",
    " \n",
    "\n",
    "## Portes quantiques <a id='portes'></a>  \n",
    "Une porte est un modificateur de qubits de la même façon qu'une porte logique modifie une valeur booléene : Elles modifient leur état.\n",
    "\n",
    "#### Portes à 1 qubit\n",
    "##### Porte X\n",
    "C'est l'équivalent de la porte *not* :\n",
    "\n",
    "|qubit |  X  |\n",
    "|:---: |:---:|\n",
    "|  0   |  1  |\n",
    "|  1   |  0  |\n",
    "\n",
    "##### Porte Y\n",
    "\n",
    "#### Portes à plusieurs qubits\n",
    "##### Porte H\n",
    "Porte Hadamard\n",
    "\n",
    "\n",
    "|qubit |  X  |\n",
    "|:----:|:---:|\n",
    "|  0   |  1  |\n",
    "|  1   |  0  |\n",
    "\n",
    "##### Porte S\n",
    "?\n",
    "##### Porte S+\n",
    "?\n",
    "##### Porte Z\n",
    "?\n",
    "##### Porte T\n",
    "?\n",
    "##### Porte T+\n",
    "?\n",
    "##### Porte +\n",
    "\n",
    "\n",
    "\n"
   ]
  },
  {
   "cell_type": "markdown",
   "metadata": {},
   "source": [
    "## L'algorithme de Shor\n",
    "\n",
    "L'algorithme de shor permetrait de factoriser des nombres avec une complexité logarithmique"
   ]
  },
  {
   "cell_type": "code",
   "execution_count": null,
   "metadata": {},
   "outputs": [],
   "source": []
  },
  {
   "cell_type": "code",
   "execution_count": null,
   "metadata": {},
   "outputs": [],
   "source": [
    "from math import gcd\n",
    "def fct_periode(N, a):\n",
    "    k = 0\n",
    "    while True:\n",
    "        k += 1\n",
    "        res = (a ** k) % N\n",
    "        if res == 1:\n",
    "            return k\n"
   ]
  },
  {
   "cell_type": "code",
   "execution_count": null,
   "metadata": {},
   "outputs": [],
   "source": []
  },
  {
   "cell_type": "code",
   "execution_count": null,
   "metadata": {},
   "outputs": [],
   "source": [
    "# Fonction pour trouver la période de (a**k)%N VERSION QUANTIQUE\n",
    "def fct_periode_quantique(a, N):\n",
    "    return 0"
   ]
  },
  {
   "cell_type": "code",
   "execution_count": null,
   "metadata": {},
   "outputs": [],
   "source": []
  },
  {
   "cell_type": "code",
   "execution_count": null,
   "metadata": {},
   "outputs": [],
   "source": [
    "import random\n",
    "import time\n",
    "def fctshor(N, mode):\n",
    "    start_time = time.time()\n",
    "    # Choix de a aléatoire 0<a<N\n",
    "    a = random.choice(sequence)\n",
    "    print(\"Shor=========================\\nN=\" + str(N) + \"\\na=\" + str(a))\n",
    "\n",
    "    # Pgcd de N et de a\n",
    "    pgcd = gcd(a, N)\n",
    "    print(\"Pgcd: \" + str(pgcd))\n",
    "\n",
    "    # Si pgcd!=1 facto réussie\n",
    "    if pgcd != 1:\n",
    "        return pgcd, int(N / pgcd), time.time() - start_time\n",
    "\n",
    "    if mode == \"quantique\":\n",
    "        # utilisation du sous programme de recherche quantique pour trouver la période\n",
    "        periode = fct_periode_quantique(N, a)\n",
    "    else:\n",
    "        # utilisation du sous programme de recherche quantique pour trouver la période\n",
    "        periode = fct_periode(N, a)\n",
    "    print(\"Periode: \" + str(periode))\n",
    "\n",
    "    # Tests sur la période\n",
    "    if periode % 2 != 1:\n",
    "        temp = a ** (int(periode / 2))\n",
    "        if temp % N != 1:\n",
    "            # Calcul des 2 facteurs\n",
    "            res1 = gcd(N, temp + 1)\n",
    "            res2 = gcd(N, temp - 1)\n",
    "            print(\"Res1: \" + str(res1))\n",
    "            print(\"Res2: \" + str(res2))\n",
    "            if res1 * res2 == N and res1 != 1 and res2 != 1:\n",
    "                return res1, res2, time.time() - start_time\n",
    "    return fctshor(N, \"normal\")"
   ]
  },
  {
   "cell_type": "code",
   "execution_count": null,
   "metadata": {},
   "outputs": [],
   "source": []
  },
  {
   "cell_type": "code",
   "execution_count": null,
   "metadata": {},
   "outputs": [],
   "source": [
    "# Choix de N\n",
    "N = 238920\n",
    "\n",
    "# Enlever les nombres dont le pgcd(nombre,N)!=1 et donne direct la réponse (optionnel)\n",
    "sequence = []\n",
    "for i in range(2, N - 1):\n",
    "    if gcd(N, i) == 1:\n",
    "        sequence.append(i)\n",
    "\n",
    "# Algo normal\n",
    "resNormal = fctshor(N, \"normal\")\n",
    "print(\"Factorisation normal de \" + str(N) + \" : \" + str(resNormal[0]) + \" et \" + str(resNormal[1]) + \" en \" + str(\n",
    "resNormal[2]) + \" secondes\")\n",
    "\n",
    "# Algo quantique\n",
    "# resQuantique = fctshor(N,\"quantique\")\n",
    "# print(\"Factorisation avec recherche période quantique de \" + str(N) + \" : \" + str(resQuantique[0]) + \" et \" + str(resQuantique[1]) +\" en \"+str(resQuantique[2]) +\" secondes\")\n"
   ]
  }
 ],
 "metadata": {
  "kernelspec": {
   "display_name": "Python 3",
   "language": "python",
   "name": "python3"
  },
  "language_info": {
   "codemirror_mode": {
    "name": "ipython",
    "version": 3
   },
   "file_extension": ".py",
   "mimetype": "text/x-python",
   "name": "python",
   "nbconvert_exporter": "python",
   "pygments_lexer": "ipython3",
   "version": "3.7.1"
  }
 },
 "nbformat": 4,
 "nbformat_minor": 2
}
